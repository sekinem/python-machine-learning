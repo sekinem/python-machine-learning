{
 "cells": [
  {
   "cell_type": "markdown",
   "id": "further-fever",
   "metadata": {},
   "source": [
    "## Recurrent Neural Network"
   ]
  },
  {
   "cell_type": "code",
   "execution_count": 1,
   "id": "public-current",
   "metadata": {},
   "outputs": [],
   "source": [
    "import tensorflow as tf\n",
    "import tensorflow_datasets as tfds\n",
    "import numpy as np\n",
    "import pandas as pd"
   ]
  },
  {
   "cell_type": "code",
   "execution_count": 2,
   "id": "bottom-chest",
   "metadata": {},
   "outputs": [
    {
     "data": {
      "text/html": [
       "<div>\n",
       "<style scoped>\n",
       "    .dataframe tbody tr th:only-of-type {\n",
       "        vertical-align: middle;\n",
       "    }\n",
       "\n",
       "    .dataframe tbody tr th {\n",
       "        vertical-align: top;\n",
       "    }\n",
       "\n",
       "    .dataframe thead th {\n",
       "        text-align: right;\n",
       "    }\n",
       "</style>\n",
       "<table border=\"1\" class=\"dataframe\">\n",
       "  <thead>\n",
       "    <tr style=\"text-align: right;\">\n",
       "      <th></th>\n",
       "      <th>review</th>\n",
       "      <th>sentiment</th>\n",
       "    </tr>\n",
       "  </thead>\n",
       "  <tbody>\n",
       "    <tr>\n",
       "      <th>0</th>\n",
       "      <td>In 1974, the teenager Martha Moxley (Maggie Gr...</td>\n",
       "      <td>1</td>\n",
       "    </tr>\n",
       "    <tr>\n",
       "      <th>1</th>\n",
       "      <td>OK... so... I really like Kris Kristofferson a...</td>\n",
       "      <td>0</td>\n",
       "    </tr>\n",
       "    <tr>\n",
       "      <th>2</th>\n",
       "      <td>***SPOILER*** Do not read this, if you think a...</td>\n",
       "      <td>0</td>\n",
       "    </tr>\n",
       "    <tr>\n",
       "      <th>3</th>\n",
       "      <td>hi for all the people who have seen this wonde...</td>\n",
       "      <td>1</td>\n",
       "    </tr>\n",
       "    <tr>\n",
       "      <th>4</th>\n",
       "      <td>I recently bought the DVD, forgetting just how...</td>\n",
       "      <td>0</td>\n",
       "    </tr>\n",
       "  </tbody>\n",
       "</table>\n",
       "</div>"
      ],
      "text/plain": [
       "                                              review  sentiment\n",
       "0  In 1974, the teenager Martha Moxley (Maggie Gr...          1\n",
       "1  OK... so... I really like Kris Kristofferson a...          0\n",
       "2  ***SPOILER*** Do not read this, if you think a...          0\n",
       "3  hi for all the people who have seen this wonde...          1\n",
       "4  I recently bought the DVD, forgetting just how...          0"
      ]
     },
     "execution_count": 2,
     "metadata": {},
     "output_type": "execute_result"
    }
   ],
   "source": [
    "df = pd.read_csv('../../python-machine-learning-book-3rd-edition-master/ch08/movie_data.csv')\n",
    "df.head()"
   ]
  },
  {
   "cell_type": "code",
   "execution_count": 3,
   "id": "thousand-paper",
   "metadata": {},
   "outputs": [],
   "source": [
    "target = df.pop('sentiment')\n",
    "ds_raw = tf.data.Dataset.from_tensor_slices((df.values, target.values))"
   ]
  },
  {
   "cell_type": "code",
   "execution_count": 4,
   "id": "dirty-manor",
   "metadata": {},
   "outputs": [
    {
     "name": "stdout",
     "output_type": "stream",
     "text": [
      "b'In 1974, the teenager Martha Moxley (Maggie Grace)' 1\n",
      "b'OK... so... I really like Kris Kristofferson and h' 0\n",
      "b'***SPOILER*** Do not read this, if you think about' 0\n"
     ]
    }
   ],
   "source": [
    "for ex in ds_raw.take(3):\n",
    "    tf.print(ex[0].numpy()[0][:50], ex[1])"
   ]
  },
  {
   "cell_type": "code",
   "execution_count": 5,
   "id": "criminal-junction",
   "metadata": {},
   "outputs": [],
   "source": [
    "tf.random.set_seed(1)\n",
    "\n",
    "ds_raw = ds_raw.shuffle(50000, reshuffle_each_iteration=False)\n",
    "ds_raw_test = ds_raw.take(25000)\n",
    "ds_raw_train_valid = ds_raw.skip(25000)\n",
    "ds_raw_train = ds_raw_train_valid.take(20000)\n",
    "ds_raw_valid = ds_raw_train_valid.skip(20000)"
   ]
  },
  {
   "cell_type": "code",
   "execution_count": 6,
   "id": "eligible-communist",
   "metadata": {},
   "outputs": [
    {
     "name": "stdout",
     "output_type": "stream",
     "text": [
      "Vocab-size: 87007\n"
     ]
    }
   ],
   "source": [
    "from collections import Counter\n",
    "\n",
    "tokenizer = tfds.features.text.Tokenizer()\n",
    "token_counts = Counter()\n",
    "for example in ds_raw_train:\n",
    "    tokens = tokenizer.tokenize(example[0].numpy()[0])\n",
    "    token_counts.update(tokens)\n",
    "\n",
    "print(f'Vocab-size: {len(token_counts)}')"
   ]
  },
  {
   "cell_type": "code",
   "execution_count": 7,
   "id": "durable-settlement",
   "metadata": {},
   "outputs": [
    {
     "name": "stdout",
     "output_type": "stream",
     "text": [
      "[232, 9, 270, 1123]\n"
     ]
    }
   ],
   "source": [
    "encoder = tfds.features.text.TokenTextEncoder(token_counts)\n",
    "example_str = 'This is an example.'\n",
    "print(encoder.encode(example_str))"
   ]
  },
  {
   "cell_type": "code",
   "execution_count": 8,
   "id": "closing-swaziland",
   "metadata": {},
   "outputs": [],
   "source": [
    "def encode(text_tensor, label):\n",
    "    text = text_tensor.numpy()[0]\n",
    "    encoded_text = encoder.encode(text)\n",
    "    return encoded_text, label\n",
    "\n",
    "def encode_map_fn(text, label):\n",
    "    return tf.py_function(encode, inp=[text, label], Tout=(tf.int64, tf.int64))"
   ]
  },
  {
   "cell_type": "code",
   "execution_count": 9,
   "id": "cloudy-bermuda",
   "metadata": {},
   "outputs": [
    {
     "name": "stdout",
     "output_type": "stream",
     "text": [
      "Sequence length: (24,)\n",
      "Sequence length: (179,)\n",
      "Sequence length: (262,)\n",
      "Sequence length: (535,)\n",
      "Sequence length: (130,)\n"
     ]
    }
   ],
   "source": [
    "ds_train = ds_raw_train.map(encode_map_fn)\n",
    "ds_valid = ds_raw_valid.map(encode_map_fn)\n",
    "ds_test = ds_raw_test.map(encode_map_fn)\n",
    "\n",
    "tf.random.set_seed(1)\n",
    "\n",
    "for example in ds_train.shuffle(1000).take(5):\n",
    "    print('Sequence length:', example[0].shape)"
   ]
  },
  {
   "cell_type": "code",
   "execution_count": 10,
   "id": "valid-ottawa",
   "metadata": {},
   "outputs": [],
   "source": [
    "train_data = ds_train.padded_batch(32, padded_shapes=([-1],[]))\n",
    "valid_data = ds_valid.padded_batch(32, padded_shapes=([-1],[]))\n",
    "test_data = ds_test.padded_batch(32, padded_shapes=([-1],[]))"
   ]
  },
  {
   "cell_type": "code",
   "execution_count": 11,
   "id": "empty-organization",
   "metadata": {},
   "outputs": [
    {
     "name": "stdout",
     "output_type": "stream",
     "text": [
      "Model: \"sequential\"\n",
      "_________________________________________________________________\n",
      "Layer (type)                 Output Shape              Param #   \n",
      "=================================================================\n",
      "embedding (Embedding)        (None, None, 32)          32000     \n",
      "_________________________________________________________________\n",
      "simple_rnn (SimpleRNN)       (None, None, 32)          2080      \n",
      "_________________________________________________________________\n",
      "simple_rnn_1 (SimpleRNN)     (None, 32)                2080      \n",
      "_________________________________________________________________\n",
      "dense (Dense)                (None, 1)                 33        \n",
      "=================================================================\n",
      "Total params: 36,193\n",
      "Trainable params: 36,193\n",
      "Non-trainable params: 0\n",
      "_________________________________________________________________\n"
     ]
    }
   ],
   "source": [
    "from tensorflow.keras import Sequential\n",
    "from tensorflow.keras.layers import Embedding\n",
    "from tensorflow.keras.layers import SimpleRNN\n",
    "from tensorflow.keras.layers import Dense\n",
    "\n",
    "model = Sequential()\n",
    "model.add(Embedding(1000, 32))\n",
    "model.add(SimpleRNN(32, return_sequences=True))\n",
    "model.add(SimpleRNN(32))\n",
    "model.add(Dense(1))\n",
    "model.summary()"
   ]
  },
  {
   "cell_type": "code",
   "execution_count": 12,
   "id": "abstract-charm",
   "metadata": {},
   "outputs": [
    {
     "name": "stdout",
     "output_type": "stream",
     "text": [
      "Model: \"sequential_1\"\n",
      "_________________________________________________________________\n",
      "Layer (type)                 Output Shape              Param #   \n",
      "=================================================================\n",
      "embed-layer (Embedding)      (None, None, 20)          1740180   \n",
      "_________________________________________________________________\n",
      "bidir-lstm (Bidirectional)   (None, 128)               43520     \n",
      "_________________________________________________________________\n",
      "dense_1 (Dense)              (None, 64)                8256      \n",
      "_________________________________________________________________\n",
      "dense_2 (Dense)              (None, 1)                 65        \n",
      "=================================================================\n",
      "Total params: 1,792,021\n",
      "Trainable params: 1,792,021\n",
      "Non-trainable params: 0\n",
      "_________________________________________________________________\n",
      "Epoch 1/10\n",
      "625/625 [==============================] - 283s 452ms/step - loss: 0.5220 - accuracy: 0.7287 - val_loss: 0.3902 - val_accuracy: 0.8360\n",
      "Epoch 2/10\n",
      "625/625 [==============================] - 260s 417ms/step - loss: 0.2500 - accuracy: 0.9068 - val_loss: 0.4634 - val_accuracy: 0.8064\n",
      "Epoch 3/10\n",
      "625/625 [==============================] - 264s 423ms/step - loss: 0.1546 - accuracy: 0.9479 - val_loss: 0.4248 - val_accuracy: 0.8568\n",
      "Epoch 4/10\n",
      "625/625 [==============================] - 267s 427ms/step - loss: 0.0912 - accuracy: 0.9710 - val_loss: 0.5090 - val_accuracy: 0.8578\n",
      "Epoch 5/10\n",
      "625/625 [==============================] - 283s 453ms/step - loss: 0.0613 - accuracy: 0.9804 - val_loss: 0.5595 - val_accuracy: 0.8382\n",
      "Epoch 6/10\n",
      "625/625 [==============================] - 263s 421ms/step - loss: 0.0477 - accuracy: 0.9839 - val_loss: 0.6512 - val_accuracy: 0.8346\n",
      "Epoch 7/10\n",
      "625/625 [==============================] - 268s 428ms/step - loss: 0.0789 - accuracy: 0.9718 - val_loss: 0.5883 - val_accuracy: 0.8250\n",
      "Epoch 8/10\n",
      "625/625 [==============================] - 283s 453ms/step - loss: 0.0602 - accuracy: 0.9789 - val_loss: 0.7363 - val_accuracy: 0.8276\n",
      "Epoch 9/10\n",
      "625/625 [==============================] - 276s 442ms/step - loss: 0.0290 - accuracy: 0.9916 - val_loss: 0.7965 - val_accuracy: 0.8390\n",
      "Epoch 10/10\n",
      "625/625 [==============================] - 311s 498ms/step - loss: 0.0134 - accuracy: 0.9961 - val_loss: 0.8890 - val_accuracy: 0.8378\n",
      "782/782 [==============================] - 123s 157ms/step - loss: 0.8940 - accuracy: 0.8416\n",
      "Test acc.: 84.16\n"
     ]
    }
   ],
   "source": [
    "from tensorflow.keras.layers import LSTM\n",
    "from tensorflow.keras.layers import Bidirectional\n",
    "\n",
    "embedding_dim = 20\n",
    "vocab_size = len(token_counts) + 2\n",
    "tf.random.set_seed(1)\n",
    "\n",
    "bi_lstm_model = Sequential([\n",
    "    Embedding(\n",
    "        input_dim=vocab_size,\n",
    "        output_dim=embedding_dim,\n",
    "        name='embed-layer'\n",
    "    ),\n",
    "    Bidirectional(\n",
    "        LSTM(64, name='lstm-layer'),\n",
    "        name='bidir-lstm'),\n",
    "    Dense(64, activation='relu'),\n",
    "    Dense(1, activation='sigmoid')\n",
    "])\n",
    "bi_lstm_model.summary()\n",
    "\n",
    "bi_lstm_model.compile(\n",
    "    optimizer=tf.keras.optimizers.Adam(1e-3),\n",
    "    loss=tf.keras.losses.BinaryCrossentropy(from_logits=False),\n",
    "    metrics=['accuracy']\n",
    ")\n",
    "history = bi_lstm_model.fit(\n",
    "    train_data, \n",
    "    validation_data=valid_data, \n",
    "    epochs=10\n",
    ")\n",
    "\n",
    "test_results = bi_lstm_model.evaluate(test_data)\n",
    "print(f'Test acc.: {test_results[1] * 100:.2f}')"
   ]
  },
  {
   "cell_type": "code",
   "execution_count": null,
   "id": "genuine-variance",
   "metadata": {},
   "outputs": [],
   "source": []
  }
 ],
 "metadata": {
  "kernelspec": {
   "display_name": "Python 3",
   "language": "python",
   "name": "python3"
  },
  "language_info": {
   "codemirror_mode": {
    "name": "ipython",
    "version": 3
   },
   "file_extension": ".py",
   "mimetype": "text/x-python",
   "name": "python",
   "nbconvert_exporter": "python",
   "pygments_lexer": "ipython3",
   "version": "3.8.8"
  }
 },
 "nbformat": 4,
 "nbformat_minor": 5
}
