{
 "cells": [
  {
   "cell_type": "code",
   "execution_count": 1,
   "metadata": {},
   "outputs": [],
   "source": [
    "import sqlite3\n",
    "import os\n",
    "\n",
    "conn = sqlite3.connect('./movieclassifier/reviews.sqlite')\n",
    "c = conn.cursor()\n",
    "c.execute('DROP TABLE IF EXISTS review_db')\n",
    "c.execute('CREATE TABLE review_db (review TEXT, sentiment INTEGER, date TEXT)')\n",
    "\n",
    "insert_sql = 'INSERT INTO review_db (review, sentiment, date) VALUES (?, ?, DATETIME(\"now\"))'\n",
    "\n",
    "example1 = 'I love this movie'\n",
    "c.execute(insert_sql, (example1, 1))\n",
    "\n",
    "example2 = 'I disliked this movie'\n",
    "c.execute(insert_sql, (example2, 0))\n",
    "\n",
    "conn.commit()\n",
    "conn.close()"
   ]
  },
  {
   "cell_type": "code",
   "execution_count": 2,
   "metadata": {},
   "outputs": [
    {
     "name": "stdout",
     "output_type": "stream",
     "text": [
      "[('I love this movie', 1, '2021-04-14 10:59:19'), ('I disliked this movie', 0, '2021-04-14 10:59:19')]\n"
     ]
    }
   ],
   "source": [
    "conn = sqlite3.connect('./movieclassifier/reviews.sqlite')\n",
    "c = conn.cursor()\n",
    "c.execute('SELECT * FROM review_db')\n",
    "results = c.fetchall()\n",
    "conn.close()\n",
    "print(results)"
   ]
  },
  {
   "cell_type": "code",
   "execution_count": null,
   "metadata": {},
   "outputs": [],
   "source": []
  }
 ],
 "metadata": {
  "kernelspec": {
   "display_name": "Python 3",
   "language": "python",
   "name": "python3"
  },
  "language_info": {
   "codemirror_mode": {
    "name": "ipython",
    "version": 3
   },
   "file_extension": ".py",
   "mimetype": "text/x-python",
   "name": "python",
   "nbconvert_exporter": "python",
   "pygments_lexer": "ipython3",
   "version": "3.8.5"
  }
 },
 "nbformat": 4,
 "nbformat_minor": 4
}
